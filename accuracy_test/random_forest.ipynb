{
 "cells": [
  {
   "cell_type": "code",
   "execution_count": null,
   "metadata": {},
   "outputs": [],
   "source": [
    "import pandas as pd\n",
    "from sklearn.model_selection import train_test_split\n",
    "from sklearn.ensemble import RandomForestClassifier\n",
    "from sklearn.preprocessing import LabelEncoder, StandardScaler\n",
    "from sklearn.metrics import accuracy_score\n",
    "from sklearn.metrics import classification_report\n",
    "\n",
    "import warnings\n",
    "warnings.filterwarnings('ignore')"
   ]
  },
  {
   "cell_type": "code",
   "execution_count": 50,
   "metadata": {},
   "outputs": [],
   "source": [
    "# Load dataset\n",
    "df = pd.read_csv(\"data.csv\")\n",
    "\n",
    "# Select relevant columns\n",
    "columns_to_select = [\n",
    "    'C', 'Mn', 'S', 'P', 'Si', 'Ni', 'Cr', 'Cu', \n",
    "    'Ti', 'Co', 'N', 'Pb', 'Sn', 'Al', 'B', 'V', \n",
    "    'Ca', 'Nb', 'CAPL MAIN DEFECT'\n",
    "]\n",
    "\n",
    "df = df[columns_to_select]\n",
    "\n",
    "# Split into features and target\n",
    "X = df.iloc[:, :-1]\n",
    "y = df.iloc[:, -1]"
   ]
  },
  {
   "cell_type": "code",
   "execution_count": 51,
   "metadata": {},
   "outputs": [],
   "source": [
    "# Encode labels\n",
    "label_encoder = LabelEncoder()\n",
    "y_encoded = label_encoder.fit_transform(y)\n",
    "\n",
    "# Scale features\n",
    "scaler = StandardScaler()\n",
    "X_scaled = scaler.fit_transform(X)"
   ]
  },
  {
   "cell_type": "code",
   "execution_count": 52,
   "metadata": {},
   "outputs": [
    {
     "name": "stdout",
     "output_type": "stream",
     "text": [
      "RandomForest Accuracy: 67.0103%\n",
      "Accuracy: 67.0103%\n",
      "Precision: 65.6500%\n",
      "Recall: 67.0103%\n",
      "F1-Score: 65.4447%\n"
     ]
    }
   ],
   "source": [
    "# Split data\n",
    "X_train, X_test, y_train, y_test = train_test_split(\n",
    "    X_scaled, y_encoded, test_size=0.2, random_state=42\n",
    ")\n",
    "\n",
    "# Train RandomForest\n",
    "rf = RandomForestClassifier(n_estimators=100, random_state=42)\n",
    "rf.fit(X_train, y_train)\n",
    "\n",
    "# Predict\n",
    "y_pred = rf.predict(X_test)\n",
    "\n",
    "# Accuracy\n",
    "accuracy = accuracy_score(y_test, y_pred)\n",
    "print(f'RandomForest Accuracy: {accuracy * 100:.4f}%')\n",
    "\n",
    "# Get all encoded class labels (0 to n_classes - 1)\n",
    "all_labels = list(range(len(label_encoder.classes_)))\n",
    "\n",
    "# Generate report as dictionary\n",
    "report = classification_report(\n",
    "    y_test,\n",
    "    y_pred,\n",
    "    labels=all_labels,\n",
    "    target_names=label_encoder.classes_,\n",
    "    output_dict=True,\n",
    "    zero_division=0\n",
    ")\n",
    "\n",
    "# Extract overall metrics\n",
    "accuracy = accuracy_score(y_test, y_pred) * 100\n",
    "precision = report['weighted avg']['precision'] * 100\n",
    "recall = report['weighted avg']['recall'] * 100\n",
    "f1 = report['weighted avg']['f1-score'] * 100\n",
    "\n",
    "# Display\n",
    "print(f\"Accuracy: {accuracy:.4f}%\")\n",
    "print(f\"Precision: {precision:.4f}%\")\n",
    "print(f\"Recall: {recall:.4f}%\")\n",
    "print(f\"F1-Score: {f1:.4f}%\")"
   ]
  }
 ],
 "metadata": {
  "kernelspec": {
   "display_name": "Python 3",
   "language": "python",
   "name": "python3"
  },
  "language_info": {
   "codemirror_mode": {
    "name": "ipython",
    "version": 3
   },
   "file_extension": ".py",
   "mimetype": "text/x-python",
   "name": "python",
   "nbconvert_exporter": "python",
   "pygments_lexer": "ipython3",
   "version": "3.13.2"
  }
 },
 "nbformat": 4,
 "nbformat_minor": 2
}
