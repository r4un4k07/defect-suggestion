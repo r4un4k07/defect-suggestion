{
 "cells": [
  {
   "cell_type": "code",
   "execution_count": null,
   "metadata": {},
   "outputs": [],
   "source": [
    "import pandas as pd\n",
    "import lightgbm as lgb\n",
    "from sklearn.model_selection import train_test_split\n",
    "from sklearn.preprocessing import LabelEncoder, StandardScaler\n",
    "from sklearn.metrics import accuracy_score\n",
    "import warnings\n",
    "warnings.filterwarnings('ignore')"
   ]
  },
  {
   "cell_type": "code",
   "execution_count": 4,
   "metadata": {},
   "outputs": [],
   "source": [
    "df = pd.read_csv(\"../resources/data.csv\")\n",
    "\n",
    "columns_to_select = [\n",
    "    'C', 'Mn', 'S', 'P', 'Si', 'Ni', 'Cr', 'Cu', \n",
    "    'Ti', 'Co', 'N', 'Pb', 'Sn', 'Al', 'B', 'V', \n",
    "    'Ca', 'Nb', 'CAPL MAIN DEFECT'\n",
    "]\n",
    "df = df[columns_to_select]\n",
    "\n",
    "X = df.iloc[:, :-1]\n",
    "y = df.iloc[:, -1]\n",
    "\n",
    "label_encoder = LabelEncoder()\n",
    "y_encoded = label_encoder.fit_transform(y)\n",
    "\n",
    "scaler = StandardScaler()\n",
    "X_scaled = scaler.fit_transform(X)\n",
    "\n",
    "X_train, X_test, y_train, y_test = train_test_split(X_scaled, y_encoded, test_size=0.2, random_state=42)"
   ]
  },
  {
   "cell_type": "code",
   "execution_count": 5,
   "metadata": {},
   "outputs": [
    {
     "name": "stdout",
     "output_type": "stream",
     "text": [
      "LightGBM Accuracy: 66.4948%\n",
      "Accuracy: 66.4948%\n",
      "Precision: 66.5726%\n",
      "Recall: 66.4948%\n",
      "F1-Score: 65.6224%\n"
     ]
    }
   ],
   "source": [
    "lgb_model = lgb.LGBMClassifier(n_estimators=100, random_state=42, verbose=-1)\n",
    "lgb_model.fit(X_train, y_train)\n",
    "\n",
    "y_pred = lgb_model.predict(X_test)\n",
    "accuracy = accuracy_score(y_test, y_pred)\n",
    "print(f\"LightGBM Accuracy: {accuracy * 100:.4f}%\")\n",
    "from sklearn.metrics import classification_report\n",
    "\n",
    "from sklearn.metrics import classification_report\n",
    "\n",
    "# Get all encoded class labels (0 to n_classes - 1)\n",
    "all_labels = list(range(len(label_encoder.classes_)))\n",
    "\n",
    "# Generate report as dictionary\n",
    "report = classification_report(\n",
    "    y_test,\n",
    "    y_pred,\n",
    "    labels=all_labels,\n",
    "    target_names=label_encoder.classes_,\n",
    "    output_dict=True,\n",
    "    zero_division=0\n",
    ")\n",
    "\n",
    "# Extract overall metrics\n",
    "accuracy = accuracy_score(y_test, y_pred) * 100\n",
    "precision = report['weighted avg']['precision'] * 100\n",
    "recall = report['weighted avg']['recall'] * 100\n",
    "f1 = report['weighted avg']['f1-score'] * 100\n",
    "\n",
    "# Display\n",
    "print(f\"Accuracy: {accuracy:.4f}%\")\n",
    "print(f\"Precision: {precision:.4f}%\")\n",
    "print(f\"Recall: {recall:.4f}%\")\n",
    "print(f\"F1-Score: {f1:.4f}%\")"
   ]
  }
 ],
 "metadata": {
  "kernelspec": {
   "display_name": "Python 3",
   "language": "python",
   "name": "python3"
  },
  "language_info": {
   "codemirror_mode": {
    "name": "ipython",
    "version": 3
   },
   "file_extension": ".py",
   "mimetype": "text/x-python",
   "name": "python",
   "nbconvert_exporter": "python",
   "pygments_lexer": "ipython3",
   "version": "3.13.2"
  }
 },
 "nbformat": 4,
 "nbformat_minor": 2
}
