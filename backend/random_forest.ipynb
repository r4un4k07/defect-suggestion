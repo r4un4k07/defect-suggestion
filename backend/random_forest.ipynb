{
 "cells": [
  {
   "cell_type": "code",
   "execution_count": 30,
   "metadata": {},
   "outputs": [],
   "source": [
    "import pandas as pd\n",
    "import numpy as np\n",
    "import matplotlib.pyplot as plt\n",
    "from sklearn.preprocessing import LabelEncoder, StandardScaler\n",
    "from scipy.optimize import differential_evolution\n",
    "\n",
    "import warnings\n",
    "warnings.filterwarnings('ignore')"
   ]
  },
  {
   "cell_type": "code",
   "execution_count": 31,
   "metadata": {},
   "outputs": [],
   "source": [
    "# Load dataset\n",
    "df = pd.read_csv(\"../data.csv\")\n",
    "\n",
    "# Select relevant columns\n",
    "columns_to_select = [\n",
    "    'C', 'Mn', 'S', 'P', 'Si', 'Ni', 'Cr', 'Cu', \n",
    "    'Ti', 'Co', 'N', 'Pb', 'Sn', 'Al', 'B', 'V', \n",
    "    'Ca', 'Nb', 'CAPL MAIN DEFECT'\n",
    "]\n",
    "\n",
    "df = df[columns_to_select]\n",
    "\n",
    "# Split into features and target\n",
    "X = df.iloc[:, :-1]\n",
    "y = df.iloc[:, -1]"
   ]
  },
  {
   "cell_type": "code",
   "execution_count": 32,
   "metadata": {},
   "outputs": [],
   "source": [
    "# Encode labels\n",
    "label_encoder = LabelEncoder()\n",
    "y_encoded = label_encoder.fit_transform(y)\n",
    "\n",
    "# Scale features\n",
    "scaler = StandardScaler()\n",
    "X_scaled = scaler.fit_transform(X)"
   ]
  },
  {
   "cell_type": "code",
   "execution_count": 33,
   "metadata": {},
   "outputs": [
    {
     "name": "stdout",
     "output_type": "stream",
     "text": [
      "✅ Random Forest model trained on 100% data\n"
     ]
    }
   ],
   "source": [
    "from sklearn.ensemble import RandomForestClassifier\n",
    "\n",
    "# Assuming X_scaled and y_encoded are already prepared\n",
    "# Train on 100% data\n",
    "rf = RandomForestClassifier(n_estimators=100, random_state=42)\n",
    "rf.fit(X_scaled, y_encoded)\n",
    "\n",
    "\n",
    "print(\"✅ Random Forest model trained on 100% data\")"
   ]
  },
  {
   "cell_type": "code",
   "execution_count": 34,
   "metadata": {},
   "outputs": [
    {
     "data": {
      "image/png": "[encoded data removed]",
      "text/plain": [
       "<Figure size 1000x600 with 1 Axes>"
      ]
     },
     "metadata": {},
     "output_type": "display_data"
    }
   ],
   "source": [
    "feature_names = X.columns\n",
    "feature_importances = rf.feature_importances_\n",
    "\n",
    "feat_imp_df = pd.DataFrame({\n",
    "    'Feature': feature_names,\n",
    "    'Importance': feature_importances\n",
    "}).sort_values(by='Importance', ascending=False)\n",
    "\n",
    "\n",
    "# Plot\n",
    "plt.figure(figsize=(10, 6))\n",
    "plt.barh(feat_imp_df['Feature'], feat_imp_df['Importance'], color='skyblue')\n",
    "plt.xlabel(\"Feature Importance (Gini)\")\n",
    "plt.title(\"Feature Impact on CAPL Defect Prediction (Random Forest)\")\n",
    "plt.gca().invert_yaxis()\n",
    "plt.tight_layout()\n",
    "plt.show()"
   ]
  },
  {
   "cell_type": "code",
   "execution_count": 35,
   "metadata": {},
   "outputs": [
    {
     "name": "stdout",
     "output_type": "stream",
     "text": [
      "\n",
      "Random Forest\n",
      "=> Predicted Defect: Inclusion Free\n",
      "\n",
      "\n",
      "## Class Probabilities (Most to Least Likely):\n",
      "\n",
      "Inclusion Free: 0.6906\n",
      "Spinel Inclusion: 0.3094\n",
      "Casting Powder Inclusion: 0.0000\n",
      "HOLE: 0.0000\n",
      "ROLL PICK-UP MARK- BODY: 0.0000\n",
      "ROLL PICK-UP MARK- EDGE: 0.0000\n",
      "SLAB EDGE: 0.0000\n",
      "SLIVER B-BODY: 0.0000\n",
      "SLIVER C-BODY: 0.0000\n",
      "SLIVER C-EDGE: 0.0000\n",
      "TI STREAKS: 0.0000\n"
     ]
    }
   ],
   "source": [
    "custom_input_data = np.array([[69, 3200, 15, 310, 4000, 1600, 173500, 500,\n",
    "                               3200, 400, 100, 45, 50, 365, 5, 440, 10, 20]])\n",
    "\n",
    "\n",
    "custom_input_scaled = scaler.transform(custom_input_data)\n",
    "predicted_label_encoded = rf.predict(custom_input_scaled)\n",
    "predicted_probabilities = rf.predict_proba(custom_input_scaled)\n",
    "predicted_label = label_encoder.inverse_transform(predicted_label_encoded)\n",
    "\n",
    "print(f\"\\nRandom Forest\\n=> Predicted Defect: {predicted_label[0]}\\n\")\n",
    "\n",
    "print(\"\\n## Class Probabilities (Most to Least Likely):\\n\")\n",
    "class_probs = list(zip(label_encoder.classes_, predicted_probabilities[0]))\n",
    "for label, prob in sorted(class_probs, key=lambda x: x[1], reverse=True):\n",
    "    print(f\"{label}: {prob:.4f}\")"
   ]
  },
  {
   "cell_type": "code",
   "execution_count": 36,
   "metadata": {},
   "outputs": [],
   "source": [
    "initial_scaled_input = scaler.transform(custom_input_data)[0]\n",
    "\n",
    "feature_bounds = [\n",
    "    (0, 100), (2000, 3500), (0, 30), (200, 500), (2500, 5200), (0, 3000),\n",
    "    (112000, 174000), (0, 2000), (2000, 3500), (0, 500), (0, 125), (0, 45),\n",
    "    (0, 50), (100, 500), (0, 50), (0, 500), (0, 200), (0, 200)\n",
    "]\n",
    "\n",
    "scaled_bounds = []\n",
    "original_input = custom_input_data[0]\n",
    "for i, (low, high) in enumerate(feature_bounds):\n",
    "    x_low = original_input.copy(); x_low[i] = low\n",
    "    x_high = original_input.copy(); x_high[i] = high\n",
    "    scaled_low = scaler.transform([x_low])[0][i]\n",
    "    scaled_high = scaler.transform([x_high])[0][i]\n",
    "    scaled_bounds.append((scaled_low, scaled_high))\n",
    "\n",
    "target_class_index = list(label_encoder.classes_).index(\"Inclusion Free\")"
   ]
  },
  {
   "cell_type": "code",
   "execution_count": 37,
   "metadata": {},
   "outputs": [],
   "source": [
    "def objective_function_scaled(x_scaled):\n",
    "    return -rf.predict_proba([x_scaled])[0][target_class_index]\n",
    "\n",
    "result = differential_evolution(\n",
    "    objective_function_scaled,\n",
    "    bounds=scaled_bounds,\n",
    "    strategy='best1bin',\n",
    "    maxiter=1000,\n",
    "    popsize=15,\n",
    "    tol=1e-6,\n",
    "    polish=True,\n",
    "    seed=42\n",
    ")"
   ]
  },
  {
   "cell_type": "code",
   "execution_count": 38,
   "metadata": {},
   "outputs": [
    {
     "name": "stdout",
     "output_type": "stream",
     "text": [
      "\n",
      "## Suggested Adjustments to Maximize 'Inclusion Free' Probability:\n",
      "\n",
      "C: 69.00 -> 84.14  (Δ +15.14)\n",
      "Mn: 3200.00 -> 3316.44  (Δ +116.44)\n",
      "S: 15.00 -> 20.85  (Δ +5.85)\n",
      "P: 310.00 -> 332.56  (Δ +22.56)\n",
      "Si: 4000.00 -> 3948.13  (Δ -51.87)\n",
      "Ni: 1600.00 -> 1947.60  (Δ +347.60)\n",
      "Cr: 173500.00 -> 173801.65  (Δ +301.65)\n",
      "Cu: 500.00 -> 439.53  (Δ -60.47)\n",
      "Ti: 3200.00 -> 2894.96  (Δ -305.04)\n",
      "Co: 400.00 -> 460.03  (Δ +60.03)\n",
      "N: 100.00 -> 101.26  (Δ +1.26)\n",
      "Pb: 45.00 -> 41.30  (Δ -3.70)\n",
      "Sn: 50.00 -> 48.67  (Δ -1.33)\n",
      "Al: 365.00 -> 319.10  (Δ -45.90)\n",
      "B: 5.00 -> 8.95  (Δ +3.95)\n",
      "V: 440.00 -> 486.56  (Δ +46.56)\n",
      "Ca: 10.00 -> 8.28  (Δ -1.72)\n",
      "Nb: 20.00 -> 30.38  (Δ +10.38)\n",
      "\n",
      "Predicted Inclusion Free Probability after optimization: 1.0000\n"
     ]
    }
   ],
   "source": [
    "optimized_scaled_input = result.x\n",
    "optimized_input = scaler.inverse_transform([optimized_scaled_input])[0]\n",
    "optimized_probability = -result.fun\n",
    "delta = optimized_input - custom_input_data[0]\n",
    "\n",
    "print(\"\\n## Suggested Adjustments to Maximize 'Inclusion Free' Probability:\\n\")\n",
    "for name, original, change in zip(feature_names, custom_input_data[0], delta):\n",
    "    print(f\"{name}: {original:.2f} -> {original + change:.2f}  (Δ {change:+.2f})\")\n",
    "\n",
    "print(f\"\\nPredicted Inclusion Free Probability after optimization: {optimized_probability:.4f}\")"
   ]
  }
 ],
 "metadata": {
  "kernelspec": {
   "display_name": "Python 3",
   "language": "python",
   "name": "python3"
  },
  "language_info": {
   "codemirror_mode": {
    "name": "ipython",
    "version": 3
   },
   "file_extension": ".py",
   "mimetype": "text/x-python",
   "name": "python",
   "nbconvert_exporter": "python",
   "pygments_lexer": "ipython3",
   "version": "3.13.2"
  }
 },
 "nbformat": 4,
 "nbformat_minor": 2
}
