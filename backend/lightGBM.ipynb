{
 "cells": [
  {
   "cell_type": "code",
   "execution_count": 1,
   "metadata": {},
   "outputs": [],
   "source": [
    "import pandas as pd\n",
    "import numpy as np\n",
    "import matplotlib.pyplot as plt\n",
    "import lightgbm as lgb\n",
    "from sklearn.model_selection import train_test_split\n",
    "from sklearn.preprocessing import LabelEncoder, StandardScaler\n",
    "from sklearn.metrics import accuracy_score\n",
    "from scipy.optimize import differential_evolution\n",
    "from sklearn.metrics import classification_report\n",
    "import warnings\n",
    "warnings.filterwarnings('ignore')"
   ]
  },
  {
   "cell_type": "code",
   "execution_count": 2,
   "metadata": {},
   "outputs": [],
   "source": [
    "df = pd.read_csv(\"../data.csv\")\n",
    "\n",
    "# Select the required columns (18 elements + target)\n",
    "columns_to_select = [\n",
    "    'C', 'Mn', 'S', 'P', 'Si', 'Ni', 'Cr', 'Cu', \n",
    "    'Ti', 'Co', 'N', 'Pb', 'Sn', 'Al', 'B', 'V', \n",
    "    'Ca', 'Nb', 'CAPL MAIN DEFECT'\n",
    "]\n",
    "df = df[columns_to_select]\n",
    "\n",
    "# Split features and target\n",
    "X = df.iloc[:, :-1]  # First 18 columns (features)\n",
    "y = df.iloc[:, -1]   # Last column (target)\n",
    "\n",
    "# Encode target labels\n",
    "label_encoder = LabelEncoder()\n",
    "y_encoded = label_encoder.fit_transform(y)\n",
    "\n",
    "# Scale the features\n",
    "scaler = StandardScaler()\n",
    "X_scaled = scaler.fit_transform(X)"
   ]
  },
  {
   "cell_type": "code",
   "execution_count": 3,
   "metadata": {},
   "outputs": [
    {
     "name": "stdout",
     "output_type": "stream",
     "text": [
      "✅ LightGBM model trained on 100% data\n"
     ]
    }
   ],
   "source": [
    "import lightgbm as lgb\n",
    "\n",
    "# Convert dataset\n",
    "lgb_data = lgb.Dataset(X_scaled, label=y_encoded)\n",
    "\n",
    "# Train LightGBM model\n",
    "params = {\n",
    "    'objective': 'multiclass',\n",
    "    'num_class': len(set(y_encoded)),\n",
    "    'metric': 'multi_logloss',\n",
    "    'verbosity': -1\n",
    "}\n",
    "\n",
    "lgb_model = lgb.train(params, lgb_data)\n",
    "\n",
    "\n",
    "print(\"✅ LightGBM model trained on 100% data\")"
   ]
  },
  {
   "cell_type": "code",
   "execution_count": 4,
   "metadata": {},
   "outputs": [
    {
     "data": {
      "image/png": "[encoded data removed]",
      "text/plain": [
       "<Figure size 1000x600 with 1 Axes>"
      ]
     },
     "metadata": {},
     "output_type": "display_data"
    }
   ],
   "source": [
    "import matplotlib.pyplot as plt\n",
    "import pandas as pd\n",
    "\n",
    "# Get feature importances from Booster\n",
    "importances = lgb_model.feature_importance(importance_type='gain')  # or 'split'\n",
    "\n",
    "# Use same feature names as your input data\n",
    "feature_names = X.columns\n",
    "\n",
    "# Create DataFrame\n",
    "feat_imp_df = pd.DataFrame({\n",
    "    'Feature': feature_names,\n",
    "    'Importance': importances\n",
    "}).sort_values(by='Importance', ascending=False)\n",
    "\n",
    "\n",
    "# Plot\n",
    "plt.figure(figsize=(10, 6))\n",
    "plt.barh(feat_imp_df['Feature'], feat_imp_df['Importance'], color='lightgreen')\n",
    "plt.xlabel(\"Feature Importance (Gain)\")\n",
    "plt.title(\"Feature Impact on CAPL Defect Prediction (LightGBM)\")\n",
    "plt.gca().invert_yaxis()\n",
    "plt.tight_layout()\n",
    "plt.show()"
   ]
  },
  {
   "cell_type": "code",
   "execution_count": 5,
   "metadata": {},
   "outputs": [
    {
     "name": "stdout",
     "output_type": "stream",
     "text": [
      "\n",
      "LightGBM\n",
      "=> Predicted Defect: Inclusion Free\n",
      "\n",
      "\n",
      "## Class Probabilities (Most to Least Likely):\n",
      "\n",
      "Inclusion Free: 0.6678\n",
      "Spinel Inclusion: 0.3312\n",
      "SLIVER C-EDGE: 0.0004\n",
      "SLIVER C-BODY: 0.0003\n",
      "Casting Powder Inclusion: 0.0002\n",
      "HOLE: 0.0001\n",
      "ROLL PICK-UP MARK- EDGE: 0.0000\n",
      "ROLL PICK-UP MARK- BODY: 0.0000\n",
      "SLAB EDGE: 0.0000\n",
      "SLIVER B-BODY: 0.0000\n",
      "TI STREAKS: 0.0000\n"
     ]
    }
   ],
   "source": [
    "custom_input_data = np.array([[69, 3200, 15, 310, 4000, 1600, 173500, 500,\n",
    "                               3200, 400, 100, 45, 50, 365, 5, 440, 10, 20]])\n",
    "\n",
    "# Scale the input\n",
    "custom_input_scaled = scaler.transform(custom_input_data)\n",
    "\n",
    "# Get class probabilities using predict\n",
    "predicted_probabilities = lgb_model.predict(custom_input_scaled)  # shape: (1, num_classes)\n",
    "\n",
    "# Get the predicted class index (with max probability)\n",
    "predicted_label_encoded = np.argmax(predicted_probabilities, axis=1)\n",
    "\n",
    "# Decode label\n",
    "predicted_label = label_encoder.inverse_transform(predicted_label_encoded)\n",
    "\n",
    "# Print\n",
    "print(f\"\\nLightGBM\\n=> Predicted Defect: {predicted_label[0]}\\n\")\n",
    "\n",
    "print(\"\\n## Class Probabilities (Most to Least Likely):\\n\")\n",
    "class_probs = list(zip(label_encoder.classes_, predicted_probabilities[0]))\n",
    "for class_label, prob in sorted(class_probs, key=lambda x: x[1], reverse=True):\n",
    "    print(f\"{class_label}: {prob:.4f}\")"
   ]
  },
  {
   "cell_type": "code",
   "execution_count": 6,
   "metadata": {},
   "outputs": [
    {
     "name": "stdout",
     "output_type": "stream",
     "text": [
      "\n",
      "## Suggested Adjustments to Maximize 'Inclusion Free' Probability:\n",
      "\n",
      "C: 69.00 -> 82.41  (Δ +13.41)\n",
      "Mn: 3200.00 -> 3361.78  (Δ +161.78)\n",
      "S: 15.00 -> 14.01  (Δ -0.99)\n",
      "P: 310.00 -> 311.08  (Δ +1.08)\n",
      "Si: 4000.00 -> 4110.53  (Δ +110.53)\n",
      "Ni: 1600.00 -> 1633.90  (Δ +33.90)\n",
      "Cr: 173500.00 -> 171689.03  (Δ -1810.97)\n",
      "Cu: 500.00 -> 544.05  (Δ +44.05)\n",
      "Ti: 3200.00 -> 2905.79  (Δ -294.21)\n",
      "Co: 400.00 -> 332.38  (Δ -67.62)\n",
      "N: 100.00 -> 107.82  (Δ +7.82)\n",
      "Pb: 45.00 -> 40.39  (Δ -4.61)\n",
      "Sn: 50.00 -> 49.79  (Δ -0.21)\n",
      "Al: 365.00 -> 227.96  (Δ -137.04)\n",
      "B: 5.00 -> 4.84  (Δ -0.16)\n",
      "V: 440.00 -> 499.09  (Δ +59.09)\n",
      "Ca: 10.00 -> 11.75  (Δ +1.75)\n",
      "Nb: 20.00 -> 28.64  (Δ +8.64)\n",
      "\n",
      "Predicted Inclusion Free Probability after optimization: 0.9999\n"
     ]
    }
   ],
   "source": [
    "feature_bounds = [\n",
    "    (0, 100), (2000, 3500), (0, 30), (200, 500), (2500, 5200),\n",
    "    (0, 3000), (112000, 174000), (0, 2000), (2000, 3500), (0, 500),\n",
    "    (0, 125), (0, 45), (0, 50), (100, 500), (0, 50), (0, 500),\n",
    "    (0, 200), (0, 200),\n",
    "]\n",
    "\n",
    "scaled_bounds = []\n",
    "original_input = custom_input_data[0]\n",
    "for i, (low, high) in enumerate(feature_bounds):\n",
    "    x_low = original_input.copy()\n",
    "    x_high = original_input.copy()\n",
    "    x_low[i] = low\n",
    "    x_high[i] = high\n",
    "    scaled_bounds.append((\n",
    "        scaler.transform([x_low])[0][i],\n",
    "        scaler.transform([x_high])[0][i]\n",
    "    ))\n",
    "\n",
    "target_class_index = list(label_encoder.classes_).index(\"Inclusion Free\")\n",
    "\n",
    "def objective_function_scaled(x_scaled):\n",
    "    prob = lgb_model.predict(np.array([x_scaled]))[0][target_class_index]\n",
    "    return -prob\n",
    "\n",
    "result = differential_evolution(\n",
    "    objective_function_scaled,\n",
    "    bounds=scaled_bounds,\n",
    "    strategy='best1bin',\n",
    "    maxiter=1000,\n",
    "    popsize=15,\n",
    "    tol=1e-6,\n",
    "    polish=True,\n",
    "    seed=42\n",
    ")\n",
    "\n",
    "optimized_scaled_input = result.x\n",
    "optimized_input = scaler.inverse_transform([optimized_scaled_input])[0]\n",
    "optimized_probability = -result.fun\n",
    "delta = optimized_input - custom_input_data[0]\n",
    "\n",
    "print(\"\\n## Suggested Adjustments to Maximize 'Inclusion Free' Probability:\\n\")\n",
    "for name, original, change in zip(feature_names, custom_input_data[0], delta):\n",
    "    print(f\"{name}: {original:.2f} -> {original + change:.2f}  (Δ {change:+.2f})\")\n",
    "\n",
    "print(f\"\\nPredicted Inclusion Free Probability after optimization: {optimized_probability:.4f}\")"
   ]
  }
 ],
 "metadata": {
  "kernelspec": {
   "display_name": "Python 3",
   "language": "python",
   "name": "python3"
  },
  "language_info": {
   "codemirror_mode": {
    "name": "ipython",
    "version": 3
   },
   "file_extension": ".py",
   "mimetype": "text/x-python",
   "name": "python",
   "nbconvert_exporter": "python",
   "pygments_lexer": "ipython3",
   "version": "3.13.2"
  }
 },
 "nbformat": 4,
 "nbformat_minor": 2
}
